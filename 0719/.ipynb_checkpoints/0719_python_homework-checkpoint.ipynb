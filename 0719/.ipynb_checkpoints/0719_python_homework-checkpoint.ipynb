{
 "cells": [
  {
   "cell_type": "markdown",
   "id": "289cf9e0",
   "metadata": {},
   "source": [
    "## 1. Mutable & Immutabl\n",
    "주어진 컨테이너들을 각각 변경 가능한 것(mutable)과\n",
    "변경 불가능한 것(immutable)으로 분류하시오.\n",
    "\n",
    "String, List, Tuple, Range, Set, Dictionary"
   ]
  },
  {
   "cell_type": "markdown",
   "id": "90726e06",
   "metadata": {},
   "source": [
    "### mutable\n",
    "String, list, set, Dictionary\n",
    "\n",
    "### immutable\n",
    "Tuple, Range"
   ]
  },
  {
   "cell_type": "markdown",
   "id": "a5408029",
   "metadata": {},
   "source": [
    "## 2. Dictionary 만들기\n",
    "반 학생들의 정보를 이용하여 key는 이름, value는 나이인 dictionary를 만드시오.\n",
    "내 자리를 기준으로 앞, 뒤, 좌, 우에 앉아 있는 학생의 정보를 참고하시오."
   ]
  },
  {
   "cell_type": "code",
   "execution_count": 3,
   "id": "8d69bcce",
   "metadata": {},
   "outputs": [
    {
     "name": "stdout",
     "output_type": "stream",
     "text": [
      "{'박준영': 28, '최형규': 26, '윤도현': 27, '이상찬': 31}\n"
     ]
    }
   ],
   "source": [
    "dictionary ={'박준영': 28, '최형규' : 26, '윤도현' : 27, '이상찬' : 31}\n",
    "print(dictionary)"
   ]
  },
  {
   "cell_type": "markdown",
   "id": "e2e5cc19",
   "metadata": {},
   "source": [
    "## 3. 평균 구하기\n",
    "주어진 list에 담긴 숫자들의 평균값을 출력하시오.\n",
    "scores = [80, 89, 99, 83] # => 87.75"
   ]
  },
  {
   "cell_type": "code",
   "execution_count": 16,
   "id": "73dbb4ef",
   "metadata": {},
   "outputs": [
    {
     "name": "stdout",
     "output_type": "stream",
     "text": [
      "28.0\n"
     ]
    }
   ],
   "source": [
    "print((sum(dictionary.values()))/len(dictionary))"
   ]
  }
 ],
 "metadata": {
  "kernelspec": {
   "display_name": "Python 3 (ipykernel)",
   "language": "python",
   "name": "python3"
  },
  "language_info": {
   "codemirror_mode": {
    "name": "ipython",
    "version": 3
   },
   "file_extension": ".py",
   "mimetype": "text/x-python",
   "name": "python",
   "nbconvert_exporter": "python",
   "pygments_lexer": "ipython3",
   "version": "3.9.13"
  }
 },
 "nbformat": 4,
 "nbformat_minor": 5
}
