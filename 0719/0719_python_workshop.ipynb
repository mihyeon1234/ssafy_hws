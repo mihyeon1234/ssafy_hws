{
 "cells": [
  {
   "cell_type": "markdown",
   "id": "a2413bb6",
   "metadata": {},
   "source": [
    "## 1. 숫자의 입력과 출력\n",
    "입력 받은 데이터를 숫자로 변환하고 덧셈해서 출력하는 프로그램을 작성하시오.\n",
    "(힌트 : input() 함수를 활용하여 데이터를 입력받을 수 있다.) \n",
    "\n",
    "[입력]\n",
    "숫자를 2번 입력받는다.\n",
    "\n",
    "[출력]\n",
    "입력 숫자를 계산하여 값을 출력한다.\n",
    "\n",
    "[입력 예시]\n",
    "6374\n",
    "8729\n",
    "\n",
    "[출력 예시]\n",
    "15103"
   ]
  },
  {
   "cell_type": "code",
   "execution_count": 1,
   "id": "2d3fc966",
   "metadata": {},
   "outputs": [
    {
     "name": "stdout",
     "output_type": "stream",
     "text": [
      "6374\n",
      "8738\n",
      "15112\n"
     ]
    }
   ],
   "source": [
    "a = int(input())\n",
    "b = int(input())\n",
    "\n",
    "print(a+b)"
   ]
  },
  {
   "cell_type": "markdown",
   "id": "03329ce1",
   "metadata": {},
   "source": [
    "## 2. Dictionary를 활용하여 평균 구하기\n",
    "좋아하는 점심메뉴를 이용하여 key는 메뉴, value는 가격인 dictionary를 만들고,\n",
    "점심메뉴의 평균 값을 출력하시오."
   ]
  },
  {
   "cell_type": "code",
   "execution_count": 4,
   "id": "f9fbd091",
   "metadata": {},
   "outputs": [
    {
     "name": "stdout",
     "output_type": "stream",
     "text": [
      "8500.0\n"
     ]
    }
   ],
   "source": [
    "lunch = {'짜장면' : 6000, '볶음밥' : 5000, '라면' : 3000, '꿔바로우' : 20000}\n",
    "\n",
    "print(sum(lunch.values())/len(lunch))"
   ]
  }
 ],
 "metadata": {
  "kernelspec": {
   "display_name": "Python 3 (ipykernel)",
   "language": "python",
   "name": "python3"
  },
  "language_info": {
   "codemirror_mode": {
    "name": "ipython",
    "version": 3
   },
   "file_extension": ".py",
   "mimetype": "text/x-python",
   "name": "python",
   "nbconvert_exporter": "python",
   "pygments_lexer": "ipython3",
   "version": "3.9.13"
  }
 },
 "nbformat": 4,
 "nbformat_minor": 5
}
