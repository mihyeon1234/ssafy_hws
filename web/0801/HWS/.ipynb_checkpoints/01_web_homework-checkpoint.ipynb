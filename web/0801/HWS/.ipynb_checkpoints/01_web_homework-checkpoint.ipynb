{
 "cells": [
  {
   "cell_type": "markdown",
   "id": "107ec426",
   "metadata": {},
   "source": [
    "## HTML 정의"
   ]
  },
  {
   "cell_type": "markdown",
   "id": "bd2a6474",
   "metadata": {},
   "source": [
    "(3) Hyper Text Markup Language"
   ]
  },
  {
   "cell_type": "markdown",
   "id": "e2a37149",
   "metadata": {},
   "source": [
    "## HTML 개념"
   ]
  },
  {
   "cell_type": "markdown",
   "id": "42b21d58",
   "metadata": {},
   "source": [
    "1) F\n",
    "2) F\n",
    "3) T\n",
    "4) F\n",
    "5) F"
   ]
  },
  {
   "cell_type": "markdown",
   "id": "2db04bfe",
   "metadata": {},
   "source": [
    "## CSS 정의"
   ]
  },
  {
   "cell_type": "markdown",
   "id": "ad764549",
   "metadata": {},
   "source": [
    "Cascading Style Sheets"
   ]
  },
  {
   "cell_type": "markdown",
   "id": "be36a9fc",
   "metadata": {},
   "source": [
    "## CSS 개념"
   ]
  },
  {
   "cell_type": "markdown",
   "id": "b795d9c8",
   "metadata": {},
   "source": [
    "1) T\n",
    "2) T\n",
    "3) T\n",
    "4) F\n",
    "5) T"
   ]
  },
  {
   "cell_type": "markdown",
   "id": "fa1950ed",
   "metadata": {},
   "source": [
    "## CSS 우선순위"
   ]
  },
  {
   "cell_type": "markdown",
   "id": "42cef9f9",
   "metadata": {},
   "source": [
    "!important,Inline Style, id 선택자, class 선택자, 요소 선택자,소스 순서"
   ]
  }
 ],
 "metadata": {
  "kernelspec": {
   "display_name": "Python 3 (ipykernel)",
   "language": "python",
   "name": "python3"
  },
  "language_info": {
   "codemirror_mode": {
    "name": "ipython",
    "version": 3
   },
   "file_extension": ".py",
   "mimetype": "text/x-python",
   "name": "python",
   "nbconvert_exporter": "python",
   "pygments_lexer": "ipython3",
   "version": "3.9.13"
  }
 },
 "nbformat": 4,
 "nbformat_minor": 5
}
