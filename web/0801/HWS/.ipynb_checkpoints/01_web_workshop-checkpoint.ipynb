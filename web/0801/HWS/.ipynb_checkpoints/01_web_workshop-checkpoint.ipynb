{
 "cells": [
  {
   "cell_type": "markdown",
   "id": "0ffa8e46",
   "metadata": {},
   "source": [
    "## img tag"
   ]
  },
  {
   "cell_type": "code",
   "execution_count": null,
   "id": "40ef2d01",
   "metadata": {},
   "outputs": [],
   "source": [
    "<img src=\"C:\\Users\\SSAFY_MiHyeon\\Desktop\\03_web\\0801\\HWS\\01_web_workshop\\ssafy\\image\" alt=\"ssafy\">\n"
   ]
  },
  {
   "cell_type": "markdown",
   "id": "9570e385",
   "metadata": {},
   "source": [
    "## 파일 경로"
   ]
  },
  {
   "cell_type": "code",
   "execution_count": null,
   "id": "0143afec",
   "metadata": {},
   "outputs": [],
   "source": [
    "(a): 절대경로 - C:\\Users\\SSAFY_MiHyeon\\Desktop\\03_web\\0801\\HWS\\01_web_workshop\\ssafy\\image\\my_ssafy.png<br>\n",
    "(b): 상대경로 - ../image/my_ssafy.png"
   ]
  },
  {
   "cell_type": "markdown",
   "id": "8d5836c6",
   "metadata": {},
   "source": [
    "## Hyper Link"
   ]
  },
  {
   "cell_type": "code",
   "execution_count": null,
   "id": "add9a3f9",
   "metadata": {},
   "outputs": [],
   "source": [
    "<a href=\"https://www.ssafy.com\">\n",
    "  <img src=\"../image/my_ssafy.png\" alt=\"ssafy\">\n",
    "</a>"
   ]
  },
  {
   "cell_type": "markdown",
   "id": "03165d4e",
   "metadata": {},
   "source": [
    "## 선택자"
   ]
  },
  {
   "cell_type": "code",
   "execution_count": 1,
   "id": "1ea18c11",
   "metadata": {},
   "outputs": [
    {
     "ename": "SyntaxError",
     "evalue": "illegal target for annotation (2988326112.py, line 1)",
     "output_type": "error",
     "traceback": [
      "\u001b[1;36m  Input \u001b[1;32mIn [1]\u001b[1;36m\u001b[0m\n\u001b[1;33m    nth-child(n): 부모안의 모든 요소 중 n번째<br>\u001b[0m\n\u001b[1;37m    ^\u001b[0m\n\u001b[1;31mSyntaxError\u001b[0m\u001b[1;31m:\u001b[0m illegal target for annotation\n"
     ]
    }
   ],
   "source": [
    "nth-child(n): 부모안의 모든 요소 중 n번째<br>\n",
    "nth-of-type(n): 부모안의 특정 요소 중 n번째"
   ]
  }
 ],
 "metadata": {
  "kernelspec": {
   "display_name": "Python 3 (ipykernel)",
   "language": "python",
   "name": "python3"
  },
  "language_info": {
   "codemirror_mode": {
    "name": "ipython",
    "version": 3
   },
   "file_extension": ".py",
   "mimetype": "text/x-python",
   "name": "python",
   "nbconvert_exporter": "python",
   "pygments_lexer": "ipython3",
   "version": "3.9.13"
  }
 },
 "nbformat": 4,
 "nbformat_minor": 5
}
