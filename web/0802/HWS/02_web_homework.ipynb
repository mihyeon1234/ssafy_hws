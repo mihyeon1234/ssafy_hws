{
 "cells": [
  {
   "cell_type": "markdown",
   "id": "4712404b",
   "metadata": {},
   "source": [
    "## Semantic Tag"
   ]
  },
  {
   "cell_type": "code",
   "execution_count": null,
   "id": "b0cd9ef4",
   "metadata": {},
   "outputs": [],
   "source": []
  },
  {
   "cell_type": "markdown",
   "id": "013463d1",
   "metadata": {},
   "source": [
    "## input Tag"
   ]
  },
  {
   "cell_type": "code",
   "execution_count": null,
   "id": "bd038b0d",
   "metadata": {},
   "outputs": [],
   "source": [
    "<!DOCTYPE html>\n",
    "<html lang=\"en\">\n",
    "<head>\n",
    "    <meta charset=\"UTF-8\">\n",
    "    <meta http-equiv=\"X-UA-Compatible\" content=\"IE=edge\">\n",
    "    <meta name=\"viewport\" content=\"width=device-width, initial-scale=1.0\">\n",
    "    <title>Document</title>\n",
    "    <style>\n",
    "        .a{\n",
    "            background-color: aquamarine;\n",
    "            border: 1px solid blue;\n",
    "            margin-top: 5px;\n",
    "            border-radius: 5px;\n",
    "        }\n",
    "\n",
    "    </style>\n",
    "</head>\n",
    "<body>\n",
    "    <br>\n",
    "        <label for=\"USERNAME\">USERNAME : </label>\n",
    "        <input type=\"text\" id=\"USERNAME\" placeholder=\"아이디를 입력해 주세요.\" name=\"x\"></br>\n",
    "\n",
    "        <label for=\"PWD\">PWD : </label>\n",
    "        <input type=\"text\" id=\"PWD\" name=\"y\">\n",
    "\n",
    "        <input class=\"a\" type='submit' value=\"로그인\">\n",
    "    </form>\n",
    "</body>\n",
    "</html>"
   ]
  },
  {
   "cell_type": "markdown",
   "id": "9a474189",
   "metadata": {},
   "source": [
    "## 크기 단위\n",
    "크기 단위 em은 요소에 지정된 상속된 사이즈나 기본 사이즈에 대해 상대적인 사이즈를\n",
    "설정한다. 즉, 상속의 영향으로 사이즈가 의도치 않게 변경될 수 있는데 이를 예방하기\n",
    "위해 HTML 최상위 요소의 사이즈를 기준으로 삼는 크기 단위는 무엇인가?"
   ]
  },
  {
   "cell_type": "code",
   "execution_count": null,
   "id": "61b11b0a",
   "metadata": {},
   "outputs": [],
   "source": [
    "rem"
   ]
  },
  {
   "cell_type": "markdown",
   "id": "d4820cf6",
   "metadata": {},
   "source": [
    "## 선택자\n",
    "다음 예제를 통해 ‘자손 결합자’와 ‘자식 결합자’의 차이를 설명하시오."
   ]
  },
  {
   "cell_type": "code",
   "execution_count": null,
   "id": "42e07b69",
   "metadata": {},
   "outputs": [],
   "source": []
  }
 ],
 "metadata": {
  "kernelspec": {
   "display_name": "Python 3 (ipykernel)",
   "language": "python",
   "name": "python3"
  },
  "language_info": {
   "codemirror_mode": {
    "name": "ipython",
    "version": 3
   },
   "file_extension": ".py",
   "mimetype": "text/x-python",
   "name": "python",
   "nbconvert_exporter": "python",
   "pygments_lexer": "ipython3",
   "version": "3.9.13"
  }
 },
 "nbformat": 4,
 "nbformat_minor": 5
}
