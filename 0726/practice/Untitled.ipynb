{
 "cells": [
  {
   "cell_type": "code",
   "execution_count": null,
   "id": "3776c9d5",
   "metadata": {},
   "outputs": [],
   "source": [
    "import random  # 랜덤 모듈 활용\n",
    "\n",
    "print(\"================================\")\n",
    "print(\"        Battle Ship Game        \")\n",
    "print(\"            START !!            \")\n",
    "print(\"================================\")\n",
    "\n",
    "# 필요에 따라 추가적으로 함수를 만들어 자유롭게 활용할 수 있습니다.\n",
    "# 각자의 해역에 배를 위치시키는 함수\n",
    "def set_ship(index, sea):\n",
    "    pass\n",
    "\n",
    "\n",
    "player_sea = [0] * 15  # 플레이어의 해역\n",
    "player_attacked = [False] * 15  # 플레이어의 공격 위치 기록\n",
    "\n",
    "computer_sea = [0] * 15  # 컴퓨터의 해역\n",
    "computer_attacked = [False] * 15  # 컴퓨터의 공격 위치 기록\n",
    "\n",
    "round = 1  # 게임 라운드\n",
    "\n",
    "# 1. 게임 준비\n",
    "while True:\n",
    "    pass\n",
    "    # 1-1) 플레이어의 배 시작 위치 고르기\n",
    "\n",
    "    # 1-2) 범위를 벗어난 시작점을 고른 경우\n",
    "\n",
    "\n",
    "# 1-3) 컴퓨터의 배 시작 위치를 랜덤으로 지정합니다.\n",
    "\n",
    "# 1-4) 플레이어와 컴퓨터의 해역에 각각 배 위치시키기\n",
    "\n",
    "# 2. 라운드 진행\n",
    "while True:\n",
    "    pass\n",
    "    # 2-1) 플레이어 공격\n",
    "\n",
    "    # 2-2) 플레이어의 공격 위치 선택\n",
    "\n",
    "    # 2-3) 플레이어의 공격이 성공한 경우\n",
    "\n",
    "    # 2-4) 플레이어의 공격이 실패한 경우\n",
    "\n",
    "    # 2-5) 컴퓨터의 공격 위치 지정\n",
    "    # 컴퓨터가 공격하지 않은 위치를 나타내는 리스트\n",
    "\n",
    "    # 2-6) 컴퓨터의 공격이 성공한 경우\n",
    "\n",
    "    # 2-7) 컴퓨터의 공격이 실패한 경우\n"
   ]
  },
  {
   "cell_type": "code",
   "execution_count": 8,
   "id": "959e5e18",
   "metadata": {},
   "outputs": [
    {
     "ename": "SyntaxError",
     "evalue": "cannot assign to operator (3861458233.py, line 3)",
     "output_type": "error",
     "traceback": [
      "\u001b[1;36m  Input \u001b[1;32mIn [8]\u001b[1;36m\u001b[0m\n\u001b[1;33m    (player_sea[idx] and player_sea[idx+1])=1\u001b[0m\n\u001b[1;37m     ^\u001b[0m\n\u001b[1;31mSyntaxError\u001b[0m\u001b[1;31m:\u001b[0m cannot assign to operator\n"
     ]
    }
   ],
   "source": [
    "player_sea = [0] * 15 \n",
    "idx = 3\n",
    "player_sea[idx]=1\n",
    "print(player_sea)"
   ]
  },
  {
   "cell_type": "code",
   "execution_count": null,
   "id": "0be30cdc",
   "metadata": {},
   "outputs": [],
   "source": [
    "1% 400g"
   ]
  },
  {
   "cell_type": "code",
   "execution_count": 7,
   "id": "efb6487a",
   "metadata": {},
   "outputs": [
    {
     "name": "stdout",
     "output_type": "stream",
     "text": [
      "소금물의 농도(%)와 소금물의 양(g)을 입력하십시오 : 1% 400g\n",
      "소금물의 농도(%)와 소금물의 양(g)을 입력하십시오 : 1% 400g\n",
      "소금물의 농도(%)와 소금물의 양(g)을 입력하십시오 : 1% 400g\n",
      "소금물의 농도(%)와 소금물의 양(g)을 입력하십시오 : 1% 400g\n",
      "소금물의 농도(%)와 소금물의 양(g)을 입력하십시오 : Done\n",
      "sort :  [4.0, 4.0, 4.0, 4.0] reso :  16.0\n",
      "sort :  [4.0, 4.0, 4.0, 4.0] rewa :  1600\n",
      "1.0% 1600g\n"
     ]
    }
   ],
   "source": [
    "perc = []\n",
    "water = []\n",
    "sort = []\n",
    "j = 0\n",
    "while j != 5:\n",
    "    j+=1\n",
    "    i = input('소금물의 농도(%)와 소금물의 양(g)을 입력하십시오 : ')\n",
    "    if i != 'Done':\n",
    "        perc.append(int(i.split('%')[0]))\n",
    "        water.append(int(i.split(' ')[1].rstrip('g')))\n",
    "        sort.append(((int(i.split('%')[0]))*(int(i.split(' ')[1].rstrip('g'))))/100)\n",
    "\n",
    "                                    \n",
    "    elif i == 'Done':\n",
    "        reso = sum(sort)\n",
    "        print('sort : ',sort,'reso : ',reso)\n",
    "        rewa = sum(water)\n",
    "        print('sort : ',sort,'rewa : ',rewa)\n",
    "\n",
    "        re = (reso/rewa)*100\n",
    "        print(f'{re}% {rewa}g')\n",
    "\n"
   ]
  },
  {
   "cell_type": "code",
   "execution_count": null,
   "id": "85e95008",
   "metadata": {},
   "outputs": [],
   "source": [
    "\n",
    "    \n",
    "    \n",
    "    "
   ]
  }
 ],
 "metadata": {
  "kernelspec": {
   "display_name": "Python 3 (ipykernel)",
   "language": "python",
   "name": "python3"
  },
  "language_info": {
   "codemirror_mode": {
    "name": "ipython",
    "version": 3
   },
   "file_extension": ".py",
   "mimetype": "text/x-python",
   "name": "python",
   "nbconvert_exporter": "python",
   "pygments_lexer": "ipython3",
   "version": "3.9.13"
  }
 },
 "nbformat": 4,
 "nbformat_minor": 5
}
