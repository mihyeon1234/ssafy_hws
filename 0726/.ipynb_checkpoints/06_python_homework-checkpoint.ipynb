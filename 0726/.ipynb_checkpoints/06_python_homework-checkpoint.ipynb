{
 "cells": [
  {
   "cell_type": "markdown",
   "id": "56269c60",
   "metadata": {},
   "source": [
    "## Built-in 함수와 메서드\n",
    "sorted()와 .sort()의 차이점을 코드의 실행 결과를 활용하여 설명하시오."
   ]
  },
  {
   "cell_type": "code",
   "execution_count": 5,
   "id": "cc27adaf",
   "metadata": {},
   "outputs": [
    {
     "name": "stdout",
     "output_type": "stream",
     "text": [
      "[13, 14, 4, 40, 5, 3] [3, 4, 5, 13, 14, 40]\n"
     ]
    }
   ],
   "source": [
    "import random\n",
    "lotto = random.sample(range(1, 46), 6)\n",
    "print(lotto, sorted(lotto))"
   ]
  },
  {
   "cell_type": "markdown",
   "id": "bc7893d1",
   "metadata": {},
   "source": [
    "sort 는 내장 원본list를 변형시키고, None를 리턴한다.\n",
    "sorted는 원본을 변형시키지 않는다"
   ]
  },
  {
   "cell_type": "markdown",
   "id": "36fb584f",
   "metadata": {},
   "source": [
    "## .extend()와 .append()\n",
    ".extend()와 .append()의 차이점을 코드의 실행 결과를 활용하여 설명하시오."
   ]
  },
  {
   "cell_type": "code",
   "execution_count": 6,
   "id": "96451a34",
   "metadata": {},
   "outputs": [
    {
     "name": "stdout",
     "output_type": "stream",
     "text": [
      "[['coffeenie'], 'twosome_place']\n"
     ]
    }
   ],
   "source": [
    "cafe=[]\n",
    "\n",
    "cafe.append(['coffeenie']) #][]하지 않은값을 입력해야됨\n",
    "\n",
    "cafe.extend(['twosome_place']) # 값을 [] 씌어서 입력해야됨\n",
    "\n",
    "print(cafe)"
   ]
  },
  {
   "cell_type": "markdown",
   "id": "29feec73",
   "metadata": {},
   "source": [
    "## 복사가 잘 된 건가?\n",
    "아래의 코드를 실행 하였을 때, 변수 a와 b에 담긴 list의 요소가 같은지 혹은 다른지\n",
    "여부를 판단하고 그 이유를 작성하시오.\n",
    "\n",
    "a = [1, 2, 3, 4, 5]\n",
    "\n",
    "b = a\n",
    "\n",
    "a[2] = 5\n",
    "\n",
    "print(a)\n",
    "\n",
    "print(b)"
   ]
  },
  {
   "cell_type": "code",
   "execution_count": 7,
   "id": "9f0243f4",
   "metadata": {},
   "outputs": [
    {
     "name": "stdout",
     "output_type": "stream",
     "text": [
      "[1, 2, 5, 4, 5]\n",
      "[1, 2, 5, 4, 5]\n"
     ]
    }
   ],
   "source": [
    "결과가 같음. 복사한게 아니라 할당했기때문"
   ]
  }
 ],
 "metadata": {
  "kernelspec": {
   "display_name": "Python 3 (ipykernel)",
   "language": "python",
   "name": "python3"
  },
  "language_info": {
   "codemirror_mode": {
    "name": "ipython",
    "version": 3
   },
   "file_extension": ".py",
   "mimetype": "text/x-python",
   "name": "python",
   "nbconvert_exporter": "python",
   "pygments_lexer": "ipython3",
   "version": "3.9.13"
  }
 },
 "nbformat": 4,
 "nbformat_minor": 5
}
