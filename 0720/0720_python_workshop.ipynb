{
 "cells": [
  {
   "cell_type": "markdown",
   "id": "fcc2656a",
   "metadata": {},
   "source": [
    "## 세로로 출력하기\n",
    "자연수 number를 입력 받아, 1부터 number까지의 수를 세로로 한줄씩 출력하시오.\n",
    "[입력 예시]\n",
    "\n",
    "10\n",
    "\n",
    "[출력 예시]\n",
    "\n",
    "1\n",
    "\n",
    "2\n",
    "\n",
    "3\n",
    "\n",
    "4\n",
    "\n",
    "5\n",
    "\n",
    "6\n",
    "\n",
    "7\n",
    "\n",
    "8\n",
    "\n",
    "9\n",
    "\n",
    "10"
   ]
  },
  {
   "cell_type": "code",
   "execution_count": 4,
   "id": "a51f9073",
   "metadata": {},
   "outputs": [
    {
     "name": "stdout",
     "output_type": "stream",
     "text": [
      "10\n",
      "0\n",
      "1\n",
      "2\n",
      "3\n",
      "4\n",
      "5\n",
      "6\n",
      "7\n",
      "8\n",
      "9\n",
      "10\n"
     ]
    }
   ],
   "source": [
    "num = int(input())\n",
    "\n",
    "for i in range(num+1):\n",
    "    print(i)"
   ]
  },
  {
   "cell_type": "markdown",
   "id": "847accad",
   "metadata": {},
   "source": [
    "## 가로로 출력하기\n",
    "자연수 number를 입력 받아, 1부터 number까지의 수를 가로로 한칸씩 띄어 출력하시오.\n",
    "[입력 예시]\n",
    "\n",
    "10\n",
    "\n",
    "[출력 예시]\n",
    "\n",
    "1 2 3 4 5 6 7 8 9 10"
   ]
  },
  {
   "cell_type": "code",
   "execution_count": 26,
   "id": "93d9d037",
   "metadata": {},
   "outputs": [
    {
     "name": "stdout",
     "output_type": "stream",
     "text": [
      "5\n",
      "0 1 2 3 4 5 "
     ]
    }
   ],
   "source": [
    "number = int(input())\n",
    "\n",
    "for i in range(number+1):\n",
    "    print(i, end=' ')"
   ]
  },
  {
   "cell_type": "markdown",
   "id": "490963a6",
   "metadata": {},
   "source": [
    "## 거꾸로 세로로 출력하기\n",
    "자연수 number를 입력 받아, number부터 0까지의 수를 세로로 한줄씩 출력하시오.\n",
    "[입력 예시]\n",
    "\n",
    "5\n",
    "\n",
    "[출력 예시]\n",
    "\n",
    "5\n",
    "\n",
    "4\n",
    "\n",
    "3\n",
    "\n",
    "2\n",
    "\n",
    "1\n",
    "\n",
    "0"
   ]
  },
  {
   "cell_type": "code",
   "execution_count": 28,
   "id": "bd9b75fb",
   "metadata": {},
   "outputs": [
    {
     "name": "stdout",
     "output_type": "stream",
     "text": [
      "5\n",
      "5\n",
      "4\n",
      "3\n",
      "2\n",
      "1\n",
      "0\n"
     ]
    }
   ],
   "source": [
    "number = int(input())\n",
    "\n",
    "for i in range(number,-1,-1):\n",
    "    print(i)"
   ]
  },
  {
   "cell_type": "markdown",
   "id": "cd6e4d4e",
   "metadata": {},
   "source": [
    "## 거꾸로 출력해 보아요 (SWEA #1545)\n",
    "자연수 number를 입력 받아, number부터 0까지의 수를 가로로 한칸씩 띄어 출력하시오.\n",
    "[입력 예시]\n",
    "\n",
    "5\n",
    "\n",
    "[출력 예시]\n",
    "\n",
    "5 4 3 2 1 0"
   ]
  },
  {
   "cell_type": "code",
   "execution_count": 30,
   "id": "ce7e8150",
   "metadata": {},
   "outputs": [
    {
     "name": "stdout",
     "output_type": "stream",
     "text": [
      "5\n",
      "5 4 3 2 1 0 "
     ]
    }
   ],
   "source": [
    "number = int(input())\n",
    "\n",
    "for i in range(number,-1,-1):\n",
    "    print(i, end=' ')"
   ]
  },
  {
   "cell_type": "markdown",
   "id": "4ace0108",
   "metadata": {},
   "source": [
    "## N줄 덧셈 (SWEA #2025)\n",
    "입력으로 자연수 number가 주어질 때, 1부터 주어진 자연수 number까지를 모두 더한\n",
    "값을 출력하시오. 단, 주어지는 숫자는 10000을 넘지 않는다. 예를 들어, 주어진 숫자가\n",
    "10일 경우 1 + 2 + 3 + 4 + 5 + 6 + 7 + 8 + 9 + 10 = 55이므로, 출력해야 할 값은 55이다\n",
    "\n",
    "\n",
    "[입력 예시]\n",
    "\n",
    "10\n",
    "\n",
    "[출력 예시]\n",
    "\n",
    "55"
   ]
  },
  {
   "cell_type": "code",
   "execution_count": 32,
   "id": "fd3a1c47",
   "metadata": {},
   "outputs": [
    {
     "name": "stdout",
     "output_type": "stream",
     "text": [
      "10\n",
      "55\n"
     ]
    }
   ],
   "source": [
    "number = int(input())\n",
    "sum=0\n",
    "for i in range(number+1):\n",
    "    sum += i\n",
    "    \n",
    "print(sum)"
   ]
  },
  {
   "cell_type": "markdown",
   "id": "c01f873b",
   "metadata": {},
   "source": [
    "## 삼각형 출력하기\n",
    "자연수 number를 입력 받아, 아래와 같이 높이가 number인 삼각형을 출력하시오.\n",
    "[입력 예시]\n",
    "\n",
    "3\n",
    "\n",
    "[출력 예시]\n",
    "\n",
    "  *\n",
    "  \n",
    " **\n",
    " \n",
    "`***"
   ]
  },
  {
   "cell_type": "code",
   "execution_count": 37,
   "id": "ee9afcba",
   "metadata": {},
   "outputs": [
    {
     "name": "stdout",
     "output_type": "stream",
     "text": [
      "10\n",
      "          \n",
      "         *\n",
      "        **\n",
      "       ***\n",
      "      ****\n",
      "     *****\n",
      "    ******\n",
      "   *******\n",
      "  ********\n",
      " *********\n"
     ]
    }
   ],
   "source": [
    "number = int(input())\n",
    "\n",
    "for i in range(number):\n",
    "    print((number - i)*' ' + i*'*')"
   ]
  },
  {
   "cell_type": "markdown",
   "id": "971daebe",
   "metadata": {},
   "source": [
    "## 중간값 찾기 (SWEA #2063 변형)\n",
    "중간값은 통계 집단의 수치를 크기 순으로 배열 했을 때 전체의 중앙에 위치하는 수치를 뜻한다. 리스트 numbers에 입력된 숫자에서 중간값을 출력하라.\n",
    "\n",
    "numbers = [\n",
    "85, 72, 38, 80, 69, 65, 68, 96, 22, 49, 67,\n",
    "51, 61, 63, 87, 66, 24, 80, 83, 71, 60, 64,\n",
    "52, 90, 60, 49, 31, 23, 99, 94, 11, 25, 24,\n",
    "]\n",
    "\n",
    "[출력 예시]\n",
    "\n",
    "64"
   ]
  },
  {
   "cell_type": "code",
   "execution_count": 51,
   "id": "181dd8fe",
   "metadata": {},
   "outputs": [
    {
     "name": "stdout",
     "output_type": "stream",
     "text": [
      "64\n"
     ]
    }
   ],
   "source": [
    "numbers = [\n",
    "85, 72, 38, 80, 69, 65, 68, 96, 22, 49, 67,\n",
    "51, 61, 63, 87, 66, 24, 80, 83, 71, 60, 64,\n",
    "52, 90, 60, 49, 31, 23, 99, 94, 11, 25, 24,\n",
    "]\n",
    "num = sorted(numbers)\n",
    "le = len(num)//2\n",
    "print(num[le])"
   ]
  }
 ],
 "metadata": {
  "kernelspec": {
   "display_name": "Python 3 (ipykernel)",
   "language": "python",
   "name": "python3"
  },
  "language_info": {
   "codemirror_mode": {
    "name": "ipython",
    "version": 3
   },
   "file_extension": ".py",
   "mimetype": "text/x-python",
   "name": "python",
   "nbconvert_exporter": "python",
   "pygments_lexer": "ipython3",
   "version": "3.9.13"
  },
  "toc": {
   "base_numbering": 1,
   "nav_menu": {},
   "number_sections": true,
   "sideBar": true,
   "skip_h1_title": false,
   "title_cell": "Table of Contents",
   "title_sidebar": "Contents",
   "toc_cell": false,
   "toc_position": {},
   "toc_section_display": true,
   "toc_window_display": false
  }
 },
 "nbformat": 4,
 "nbformat_minor": 5
}
