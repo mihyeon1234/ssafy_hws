{
 "cells": [
  {
   "cell_type": "markdown",
   "id": "79f6a049",
   "metadata": {},
   "source": [
    "## 위치 인자와 키워드 인자\n",
    "다음과 같이 함수가 선언되어 있을 때, 보기 (1)~(4) 중에서 실행 시\n",
    "오류가 발생하는 코드를 고르시오.\n",
    "\n",
    "def ssafy(name, location='서울’):\n",
    "\n",
    "print(f'{name}의 지역은 {location}입니다.')\n",
    "\n",
    "#(1)\n",
    "ssafy(＇가흔')\n",
    "\n",
    "#(2)\n",
    "ssafy(location=＇부울경', name=＇승현')\n",
    "\n",
    "#(3)\n",
    "ssafy(＇지우', location='서울')\n",
    "\n",
    "#(4)\n",
    "ssafy(name=＇승호’, ‘광주')"
   ]
  },
  {
   "cell_type": "code",
   "execution_count": null,
   "id": "9cfa33cc",
   "metadata": {},
   "outputs": [],
   "source": [
    "4"
   ]
  },
  {
   "cell_type": "markdown",
   "id": "1b0bcdc3",
   "metadata": {},
   "source": [
    "## 가변 인자 리스트\n",
    "가변 인자 리스트를 사용하여, 개수가 정해지지 않은 여러 정수들을 전달 받아\n",
    "해당 정수들의 평균 값을 반환하는 my_avg 함수를 작성하시오\n",
    "\n",
    "my_avg(77, 83, 95, 80, 70) # => 81.0"
   ]
  },
  {
   "cell_type": "code",
   "execution_count": 28,
   "id": "b58a1ae1",
   "metadata": {},
   "outputs": [
    {
     "name": "stdout",
     "output_type": "stream",
     "text": [
      "1 3 5\n"
     ]
    }
   ],
   "source": [
    "li = list(map(int,input().split()))\n",
    "def my_avg(li):\n",
    "    a = sum(li)/len(li)\n",
    "    return a"
   ]
  },
  {
   "cell_type": "markdown",
   "id": "f1eae803",
   "metadata": {},
   "source": [
    "## 반환값\n",
    "다음과 같이 함수를 선언하고 호출하였을 때, 변수 result에 저장된 값과\n",
    "그 값이 나온 이유를 작성하시오."
   ]
  },
  {
   "cell_type": "code",
   "execution_count": 27,
   "id": "4459fd17",
   "metadata": {},
   "outputs": [],
   "source": [
    "def my_func(a, b):\n",
    "    c = a + b\n",
    "#     print(c)\n",
    "\n",
    "result = my_func(3, 7)"
   ]
  },
  {
   "cell_type": "code",
   "execution_count": null,
   "id": "6f666caa",
   "metadata": {},
   "outputs": [],
   "source": [
    "# return 없음"
   ]
  },
  {
   "cell_type": "markdown",
   "id": "8b6b32e5",
   "metadata": {},
   "source": [
    "## 이름 공간(Namespace)\n",
    "Python에서 변수를 찾을 때 접근하는 이름 공간을 순서대로 작성하시오."
   ]
  },
  {
   "cell_type": "code",
   "execution_count": null,
   "id": "1f8f958d",
   "metadata": {},
   "outputs": [],
   "source": [
    "L E G B"
   ]
  },
  {
   "cell_type": "markdown",
   "id": "f81af5d3",
   "metadata": {},
   "source": [
    "## 매개변수와 인자, 그리고 반환\n",
    "아래의 보기 (1) ~ (4) 중에서, 옳지 않은 것을 고르시오.\n",
    "\n",
    "(1) 함수는 오직 하나의 객체만 반환할 수 있으므로 'return a, b＇와 같이 쓸 수 없다.\n",
    "\n",
    "(2) 함수에서 return을 작성하지 않으면 None 값을 반환한다.\n",
    "\n",
    "(3) 함수의 매개변수(parameter)는 함수를 선언할 때 설정한 값이며,전달 인자(argument)는 함수를 호출할 때 넘겨주는 값이다.\n",
    "\n",
    "(4) 가변 인자를 설정할 때는 함수 선언 시 매개변수 앞에 * 을 붙이고, \n",
    "이 때는 함수내에서 tuple로 처리 된다."
   ]
  },
  {
   "cell_type": "code",
   "execution_count": null,
   "id": "129cb667",
   "metadata": {},
   "outputs": [],
   "source": [
    "4"
   ]
  },
  {
   "cell_type": "markdown",
   "id": "c9947d25",
   "metadata": {},
   "source": [
    "## 재귀 함수\n",
    "재귀 함수를 사용했을 때 얻을 수 있는 장점과 단점을 반복문과 비교하여 작성하시오."
   ]
  },
  {
   "cell_type": "markdown",
   "id": "a2818508",
   "metadata": {},
   "source": [
    "   * 자기 자신을 호출하는 재귀함수는 알고리즘 구현시 많이 사용된다. \n",
    "   * 코드가 더 직관적이고 이해하기 쉬운 경우가 있음. (하지만, 만들기는 어려움) \n",
    "   * Python Tutor에 보면, 함수가 호출될 때마다 메모리 공간에 쌓이는 것을 볼 수 있다. \n",
    "   * 이 경우, 메모리 스택이 넘치거나(Stack overflow) 프로그램 실행 속도가 늘어지는 단점이 생긴다. \n",
    "   * 파이썬에서는 이를 방지하기 위해 1,000번이 넘어가게 되면 더이상 함수를 호출하지 않고, 종료된다."
   ]
  }
 ],
 "metadata": {
  "kernelspec": {
   "display_name": "Python 3 (ipykernel)",
   "language": "python",
   "name": "python3"
  },
  "language_info": {
   "codemirror_mode": {
    "name": "ipython",
    "version": 3
   },
   "file_extension": ".py",
   "mimetype": "text/x-python",
   "name": "python",
   "nbconvert_exporter": "python",
   "pygments_lexer": "ipython3",
   "version": "3.9.13"
  },
  "toc": {
   "base_numbering": 1,
   "nav_menu": {},
   "number_sections": true,
   "sideBar": true,
   "skip_h1_title": false,
   "title_cell": "Table of Contents",
   "title_sidebar": "Contents",
   "toc_cell": false,
   "toc_position": {},
   "toc_section_display": true,
   "toc_window_display": false
  }
 },
 "nbformat": 4,
 "nbformat_minor": 5
}
