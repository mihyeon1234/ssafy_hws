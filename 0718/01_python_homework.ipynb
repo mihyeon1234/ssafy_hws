{
 "cells": [
  {
   "cell_type": "markdown",
   "id": "5c8cd924",
   "metadata": {},
   "source": [
    "## Python 예약어\n",
    "python에서 사용할 수 없는 식별자(예약어)를 찾아 작성하시오."
   ]
  },
  {
   "cell_type": "code",
   "execution_count": null,
   "id": "4ecfb165",
   "metadata": {},
   "outputs": [],
   "source": [
    "print, sum, if, and, or, elif 등.."
   ]
  },
  {
   "cell_type": "markdown",
   "id": "da626f51",
   "metadata": {},
   "source": [
    "## 실수비교\n",
    "python은 부동소수점 방식을 이용하여 실수(float)를 표현하는 과정에서, 나타내고자 하는\n",
    "값과의 오차가 발생하여 원하는 대로 연산 또는 비교가 되지 않을 때가 있다. \n",
    "이를 참고하여, 아래와 같은 두 실수 값을 올바르게 비교하기 위한 코드를 작성하시오.\n",
    "num1 = 0.1 * 3\n",
    "num2 = 0.3 "
   ]
  },
  {
   "cell_type": "markdown",
   "id": "3c8d1ca6",
   "metadata": {},
   "source": [
    "부동 소수점 오차"
   ]
  },
  {
   "cell_type": "code",
   "execution_count": 25,
   "id": "12cbd64b",
   "metadata": {},
   "outputs": [
    {
     "name": "stdout",
     "output_type": "stream",
     "text": [
      "True\n"
     ]
    }
   ],
   "source": [
    "import math\n",
    "\n",
    "num1 = 0.1 * 3\n",
    "num2 = 0.3\n",
    "print(math.isclose(num1,num2))"
   ]
  },
  {
   "cell_type": "markdown",
   "id": "9a3fcc17",
   "metadata": {},
   "source": [
    "## 이스케이프 시퀀스\n",
    "(1) 줄 바꿈, (2) 탭, (3) 백슬래시를 의미하는 이스케이프 시퀀스를 작성하시오."
   ]
  },
  {
   "cell_type": "code",
   "execution_count": 31,
   "id": "f01643d3",
   "metadata": {},
   "outputs": [
    {
     "ename": "SyntaxError",
     "evalue": "unexpected character after line continuation character (1077709620.py, line 1)",
     "output_type": "error",
     "traceback": [
      "\u001b[1;36m  Input \u001b[1;32mIn [31]\u001b[1;36m\u001b[0m\n\u001b[1;33m    \\n\u001b[0m\n\u001b[1;37m     ^\u001b[0m\n\u001b[1;31mSyntaxError\u001b[0m\u001b[1;31m:\u001b[0m unexpected character after line continuation character\n"
     ]
    }
   ],
   "source": [
    "\\n\n",
    "\\t\n",
    "\\\\"
   ]
  },
  {
   "cell_type": "markdown",
   "id": "33a8ce84",
   "metadata": {},
   "source": [
    "## String Interpolation\n",
    "안녕, 철수야 를 string interpolation을 사용하여 출력하시오.\n",
    "name = ’철수’"
   ]
  },
  {
   "cell_type": "code",
   "execution_count": 38,
   "id": "73165e92",
   "metadata": {},
   "outputs": [
    {
     "name": "stdout",
     "output_type": "stream",
     "text": [
      "안녕, 철수야\n"
     ]
    }
   ],
   "source": [
    "name='철수'\n",
    "print(f'안녕, {name}야')"
   ]
  },
  {
   "cell_type": "markdown",
   "id": "14ec63f2",
   "metadata": {},
   "source": [
    "## 형 변환\n",
    "다음 중, 실행 시 오류가 발생하는 코드를 고르시오.\n",
    "\n",
    "str(1) # (1)\n",
    "int(’30’) # (2)\n",
    "int(5) # (3)\n",
    "bool(’50’) # (4)\n",
    "int(’3.5’) # (5)"
   ]
  },
  {
   "cell_type": "code",
   "execution_count": 44,
   "id": "06935938",
   "metadata": {},
   "outputs": [
    {
     "ename": "SyntaxError",
     "evalue": "invalid syntax (2003662263.py, line 1)",
     "output_type": "error",
     "traceback": [
      "\u001b[1;36m  Input \u001b[1;32mIn [44]\u001b[1;36m\u001b[0m\n\u001b[1;33m    5번\u001b[0m\n\u001b[1;37m     ^\u001b[0m\n\u001b[1;31mSyntaxError\u001b[0m\u001b[1;31m:\u001b[0m invalid syntax\n"
     ]
    }
   ],
   "source": [
    "5번"
   ]
  },
  {
   "cell_type": "markdown",
   "id": "ee868d20",
   "metadata": {},
   "source": [
    "## 네모 출력\n",
    "두 개의 정수 n과 m이 주어졌을 때, 가로의 길이가 n, 세로의 길이가 m인\n",
    "직사각형 형태를 별(*) 문자를 이용하여 출력하시오. 단, 반복문은 사용할 수 없다."
   ]
  },
  {
   "cell_type": "code",
   "execution_count": 46,
   "id": "67334b4e",
   "metadata": {},
   "outputs": [
    {
     "name": "stdout",
     "output_type": "stream",
     "text": [
      "*****\n",
      "*****\n",
      "*****\n",
      "*****\n",
      "*****\n",
      "*****\n",
      "*****\n",
      "*****\n",
      "*****\n"
     ]
    }
   ],
   "source": [
    "n=5\n",
    "m=9\n",
    "for i in range(m):\n",
    "    print('*'*5)"
   ]
  },
  {
   "cell_type": "markdown",
   "id": "122c5098",
   "metadata": {},
   "source": [
    "## 이스케이프 시퀀스 응용\n",
    "print() 함수를 한 번만 사용하여 다음 문장을 출력하시오.\n",
    "”파일은 c:\\Windows\\Users\\내문서\\Python에 저장이 되었습니다.”\n",
    "나는 생각했다. ‘cd를 써서 git bash로 들어가 봐야지.’"
   ]
  },
  {
   "cell_type": "code",
   "execution_count": 50,
   "id": "b8d98473",
   "metadata": {
    "scrolled": true
   },
   "outputs": [
    {
     "name": "stdout",
     "output_type": "stream",
     "text": [
      " \"파일은 c:\\Windows\\Users\\내문서\\Python에 저장이 되었습니다.”\n",
      "나는 생각했다. 'cd를 써서 git bash로 들어가 봐야지.' \n"
     ]
    }
   ],
   "source": [
    "print(''' \"파일은 c:\\Windows\\\\Users\\\\내문서\\\\Python에 저장이 되었습니다.”\n",
    "나는 생각했다. \\'cd를 써서 git bash로 들어가 봐야지.\\' ''')"
   ]
  },
  {
   "cell_type": "markdown",
   "id": "53c7f9ba",
   "metadata": {},
   "source": [
    "## 근의 공식\n",
    "다음은 이차 방정식의 근을 찾는 수식이다. 이를 파이썬 코드로 작성하시오."
   ]
  },
  {
   "cell_type": "code",
   "execution_count": 1,
   "id": "fdd4b4f6",
   "metadata": {},
   "outputs": [
    {
     "name": "stdout",
     "output_type": "stream",
     "text": [
      "2\n",
      "2\n",
      "2\n",
      "(-0.49999999999999994+0.8660254037844386j) (-0.5-0.8660254037844386j)\n"
     ]
    }
   ],
   "source": [
    "a = int(input())\n",
    "b = int(input())\n",
    "c = int(input())\n",
    "\n",
    "value_1 = (-b + (b ** 2 - 4 * a * c) ** (1 / 2)) / (2 * a)\n",
    "value_2 = (-b - (b ** 2 - 4 * a * c) ** (1 / 2)) / (2 * a)\n",
    "\n",
    "print(value_1, value_2)"
   ]
  }
 ],
 "metadata": {
  "kernelspec": {
   "display_name": "Python 3 (ipykernel)",
   "language": "python",
   "name": "python3"
  },
  "language_info": {
   "codemirror_mode": {
    "name": "ipython",
    "version": 3
   },
   "file_extension": ".py",
   "mimetype": "text/x-python",
   "name": "python",
   "nbconvert_exporter": "python",
   "pygments_lexer": "ipython3",
   "version": "3.9.13"
  },
  "toc": {
   "base_numbering": 1,
   "nav_menu": {},
   "number_sections": true,
   "sideBar": true,
   "skip_h1_title": false,
   "title_cell": "Table of Contents",
   "title_sidebar": "Contents",
   "toc_cell": false,
   "toc_position": {},
   "toc_section_display": true,
   "toc_window_display": false
  }
 },
 "nbformat": 4,
 "nbformat_minor": 5
}
