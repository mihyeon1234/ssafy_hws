{
 "cells": [
  {
   "cell_type": "markdown",
   "id": "fefd8810",
   "metadata": {},
   "source": [
    "## Type Class\n",
    "Python은 객체 지향 프로그래밍 언어이다. Python에서 기본적으로 정의되어 있는\n",
    "클래스를 최소 5가지 이상 작성하시오.\n"
   ]
  },
  {
   "cell_type": "code",
   "execution_count": null,
   "id": "c7bcbe0e",
   "metadata": {},
   "outputs": [],
   "source": [
    "sum, int, str, len, print"
   ]
  },
  {
   "cell_type": "markdown",
   "id": "24c54ba7",
   "metadata": {},
   "source": [
    "## Magic Method\n",
    "아래에 제시된 매직 메서드들이 각각 어떠한 역할을 하는지 간단하게 작성하시오.\n",
    "\n",
    "`__init__,\n",
    "__del__, \n",
    "__str__,\n",
    "__repr__"
   ]
  },
  {
   "cell_type": "code",
   "execution_count": null,
   "id": "0e620b46",
   "metadata": {},
   "outputs": [],
   "source": [
    "__init__ : 클래스 인스턴스 생성시 초기화하며 실행되는 메서드\n",
    "__del__ : 삭제, 소멸자 메서드\n",
    "__str__ : 매직 메소드가 구현되어 있지 않은 상태에서 인스턴스를 print하면 object가 나옴\n",
    "__repr__ : str과 비슷, 프린트 메서드"
   ]
  },
  {
   "cell_type": "markdown",
   "id": "c6902550",
   "metadata": {},
   "source": [
    "## . Instance Method\n",
    ".sort() 와 같이 문자열, 리스트, 딕셔너리 등을 조작 할 때 사용하였던 것들은 클래스에\n",
    "정의된 메서드들이었다. 이처럼 문자열, 리스트, 딕셔너리 등을 조작하는 메서드를 최소\n",
    "3가지 이상 그 역할과 함께 작성하시오."
   ]
  },
  {
   "cell_type": "code",
   "execution_count": null,
   "id": "9ce87d6c",
   "metadata": {},
   "outputs": [],
   "source": [
    "dir('string')\n",
    "dir('list')"
   ]
  },
  {
   "cell_type": "markdown",
   "id": "bbaef470",
   "metadata": {},
   "source": [
    "## 오류의 종류\n",
    "아래에 제시된 오류들이 각각 어떠한 경우에 발생하는지 간단하게 작성하시오.\n",
    "ZeroDivisionError, NameError, TypeError, IndexError,\n",
    "KeyError, ModuleNotFoundError, ImportError"
   ]
  },
  {
   "cell_type": "code",
   "execution_count": null,
   "id": "246f9cfa",
   "metadata": {},
   "outputs": [],
   "source": []
  }
 ],
 "metadata": {
  "kernelspec": {
   "display_name": "Python 3 (ipykernel)",
   "language": "python",
   "name": "python3"
  },
  "language_info": {
   "codemirror_mode": {
    "name": "ipython",
    "version": 3
   },
   "file_extension": ".py",
   "mimetype": "text/x-python",
   "name": "python",
   "nbconvert_exporter": "python",
   "pygments_lexer": "ipython3",
   "version": "3.9.13"
  },
  "toc": {
   "base_numbering": 1,
   "nav_menu": {},
   "number_sections": true,
   "sideBar": true,
   "skip_h1_title": false,
   "title_cell": "Table of Contents",
   "title_sidebar": "Contents",
   "toc_cell": false,
   "toc_position": {},
   "toc_section_display": true,
   "toc_window_display": false
  }
 },
 "nbformat": 4,
 "nbformat_minor": 5
}
