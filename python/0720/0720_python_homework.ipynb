{
 "cells": [
  {
   "cell_type": "markdown",
   "id": "35d1ebe1",
   "metadata": {},
   "source": [
    "## Built-in 함수\n",
    "Python에서 기본으로 사용할 수 있는 built-in 함수를 최소 5가지 이상 작성하시오."
   ]
  },
  {
   "cell_type": "code",
   "execution_count": 4,
   "id": "40964890",
   "metadata": {},
   "outputs": [],
   "source": [
    "# sum, len, print, map, zip"
   ]
  },
  {
   "cell_type": "markdown",
   "id": "68f86de7",
   "metadata": {},
   "source": [
    "## 홀수만 담기\n",
    "range와 slicing을 활용하여 1부터 50까지의 숫자 중,\n",
    "홀수로만 이루어진 리스트를 만드시오."
   ]
  },
  {
   "cell_type": "code",
   "execution_count": 10,
   "id": "9cf8c624",
   "metadata": {},
   "outputs": [
    {
     "name": "stdout",
     "output_type": "stream",
     "text": [
      "[1, 3, 5, 7, 9, 11, 13, 15, 17, 19, 21, 23, 25, 27, 29, 31, 33, 35, 37, 39, 41, 43, 45, 47, 49]\n"
     ]
    }
   ],
   "source": [
    "a = list(range(1,51,2))\n",
    "print(a)"
   ]
  },
  {
   "cell_type": "markdown",
   "id": "cd9e4a71",
   "metadata": {},
   "source": [
    "## 반복문으로 네모 출력\n",
    "두 개의 정수 n과 m이 주어졌을 때, 가로의 길이가 n, 세로의 길이가 m인 직사각형 형태를\n",
    "별(*) 문자를 이용하여 출력하시오. 단, 반복문을 사용하여 작성하시오.\n",
    "\n",
    "n = 5\n",
    "\n",
    "m = 9"
   ]
  },
  {
   "cell_type": "code",
   "execution_count": 21,
   "id": "7a099878",
   "metadata": {},
   "outputs": [
    {
     "name": "stdout",
     "output_type": "stream",
     "text": [
      "*****\n",
      "*****\n",
      "*****\n",
      "*****\n",
      "*****\n",
      "*****\n",
      "*****\n",
      "*****\n",
      "*****\n"
     ]
    }
   ],
   "source": [
    "n = 5\n",
    "m = 9\n",
    "\n",
    "# print(((n*'*')+'\\n')*m)\n",
    "\n",
    "for i in range(m):\n",
    "    print(n*'*')"
   ]
  },
  {
   "cell_type": "markdown",
   "id": "e9c9ab75",
   "metadata": {},
   "source": [
    "## 조건 표현식\n",
    "주어진 코드의 조건문을 조건 표현식으로 바꾸어 작성하시오.\n",
    "\n",
    "temp = 36.5\n",
    "\n",
    "if temp >= 37.5:\n",
    "\n",
    "print('입실 불가')\n",
    "\n",
    "else:\n",
    "\n",
    "print('입실 가능')"
   ]
  },
  {
   "cell_type": "code",
   "execution_count": 24,
   "id": "a5a8ed25",
   "metadata": {},
   "outputs": [
    {
     "name": "stdout",
     "output_type": "stream",
     "text": [
      "입실 가능\n"
     ]
    }
   ],
   "source": [
    "temp = 36.5 \n",
    "print('입실 불가') if temp >= 37.5 else print('입실 가능')"
   ]
  },
  {
   "cell_type": "markdown",
   "id": "db1abcc2",
   "metadata": {},
   "source": [
    "## 정중앙 문자\n",
    "문자열을 전달 받아 해당 문자열의 정중앙 문자를 반환하는 get_middle_char 함수를\n",
    "작성하시오. 단, 문자열의 길이가 짝수일 경우에는 정중앙 문자 2개를 반환한다.\n",
    "\n",
    "get_middle_char('ssafy’) # => a\n",
    "\n",
    "get_middle_char('coding’) # => di"
   ]
  },
  {
   "cell_type": "code",
   "execution_count": 8,
   "id": "287f8e7f",
   "metadata": {},
   "outputs": [
    {
     "name": "stdout",
     "output_type": "stream",
     "text": [
      "123456\n",
      "34\n"
     ]
    }
   ],
   "source": [
    "a = input()\n",
    "if len(a)%2 != 0:\n",
    "    it = int(len(a)/2 - 0.5)\n",
    "    print(a[it])\n",
    "else:\n",
    "    print(a[it],a[it+1],sep='')"
   ]
  }
 ],
 "metadata": {
  "kernelspec": {
   "display_name": "Python 3 (ipykernel)",
   "language": "python",
   "name": "python3"
  },
  "language_info": {
   "codemirror_mode": {
    "name": "ipython",
    "version": 3
   },
   "file_extension": ".py",
   "mimetype": "text/x-python",
   "name": "python",
   "nbconvert_exporter": "python",
   "pygments_lexer": "ipython3",
   "version": "3.9.13"
  },
  "toc": {
   "base_numbering": 1,
   "nav_menu": {},
   "number_sections": true,
   "sideBar": true,
   "skip_h1_title": false,
   "title_cell": "Table of Contents",
   "title_sidebar": "Contents",
   "toc_cell": false,
   "toc_position": {},
   "toc_section_display": true,
   "toc_window_display": false
  }
 },
 "nbformat": 4,
 "nbformat_minor": 5
}
