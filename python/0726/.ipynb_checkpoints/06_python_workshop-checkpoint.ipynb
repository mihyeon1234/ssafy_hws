{
 "cells": [
  {
   "cell_type": "markdown",
   "id": "cfde570e",
   "metadata": {},
   "source": [
    "## 무엇이 중복일까\n",
    "문자열을 전달 받아 해당 문자열에서 중복해서 나타난 문자들을 담은 list를 반환하는\n",
    "duplicated_letters 함수를 작성하시오.\n",
    "\n",
    "duplicated_letters(‘apple’) # => [‘p’]\n",
    "\n",
    "duplicated_letters(‘banana’) # => [’a’, ‘n’]"
   ]
  },
  {
   "cell_type": "code",
   "execution_count": 27,
   "id": "f60970b6",
   "metadata": {},
   "outputs": [],
   "source": [
    "def duplicated_letters(data):\n",
    "    da=[]\n",
    "    da.extend(data)\n",
    "    li = []\n",
    "    for i in da:\n",
    "        if da.count(i) >1:\n",
    "            li.append(i)\n",
    "            \n",
    "    return list(set(li))"
   ]
  },
  {
   "cell_type": "code",
   "execution_count": 69,
   "id": "738be418",
   "metadata": {},
   "outputs": [],
   "source": [
    "def duplicated_letters(data):\n",
    "    a = []\n",
    "    for i in data:\n",
    "        if data.count(i) >1:\n",
    "             a.append(i)\n",
    "    return list(set(a))"
   ]
  },
  {
   "cell_type": "code",
   "execution_count": 70,
   "id": "baa91164",
   "metadata": {},
   "outputs": [
    {
     "data": {
      "text/plain": [
       "['p']"
      ]
     },
     "execution_count": 70,
     "metadata": {},
     "output_type": "execute_result"
    }
   ],
   "source": [
    "duplicated_letters('apple')"
   ]
  },
  {
   "cell_type": "code",
   "execution_count": 71,
   "id": "ef9c6700",
   "metadata": {},
   "outputs": [
    {
     "data": {
      "text/plain": [
       "['a', 'n']"
      ]
     },
     "execution_count": 71,
     "metadata": {},
     "output_type": "execute_result"
    }
   ],
   "source": [
    "duplicated_letters('banana')"
   ]
  },
  {
   "cell_type": "markdown",
   "id": "3a06301b",
   "metadata": {},
   "source": [
    "##  소대소대\n",
    "문자열을 전달 받아 해당 문자열을 소문자와 대문자가 번갈아 나타나도록 변환하여\n",
    "반환하는 low_and_up 함수를 작성하시오. \n",
    "이때, 전달 받는 문자열은 알파벳으로만 구성된다.\n",
    "\n",
    "low_and_up(‘apple’) # => aPpLe\n",
    "\n",
    "low_and_up(‘banana’) # => bAnAnA"
   ]
  },
  {
   "cell_type": "code",
   "execution_count": 88,
   "id": "90ff15e2",
   "metadata": {},
   "outputs": [],
   "source": [
    "def low_and_up(data):\n",
    "    a = 0\n",
    "    li = []\n",
    "    for i in data:\n",
    "        if a % 2:\n",
    "            li.append(i.upper())\n",
    "        else:\n",
    "            li.append(i)\n",
    "        a += 1\n",
    "    return ''.join(li)"
   ]
  },
  {
   "cell_type": "code",
   "execution_count": 89,
   "id": "3954628d",
   "metadata": {},
   "outputs": [
    {
     "data": {
      "text/plain": [
       "'aPpLe'"
      ]
     },
     "execution_count": 89,
     "metadata": {},
     "output_type": "execute_result"
    }
   ],
   "source": [
    "low_and_up('apple')"
   ]
  },
  {
   "cell_type": "code",
   "execution_count": 90,
   "id": "aa052fc3",
   "metadata": {},
   "outputs": [
    {
     "data": {
      "text/plain": [
       "'bAnAnA'"
      ]
     },
     "execution_count": 90,
     "metadata": {},
     "output_type": "execute_result"
    }
   ],
   "source": [
    "low_and_up('banana')"
   ]
  },
  {
   "cell_type": "markdown",
   "id": "91e5b229",
   "metadata": {},
   "source": [
    "## 솔로 천국 만들기\n",
    "정수 0부터 9까지로 이루어진 list를 전달 받아, 연속적으로 나타나는 숫자는 하나만 남\n",
    "기고 제거한 list를 반환하는 lonely 함수를 작성하시오. \n",
    "이때, 제거된 후 남은 수들이 담긴 list의 요소들은 기존의 순서를 유지해야 한다.\n",
    "\n",
    "lonely([1, 1, 3, 3, 0, 1, 1]) # => [1, 3, 0, 1]\n",
    "\n",
    "lonely([4, 4, 4, 3, 3]) # => [4, 3]"
   ]
  },
  {
   "cell_type": "code",
   "execution_count": 113,
   "id": "cf59a0bb",
   "metadata": {},
   "outputs": [],
   "source": [
    "def lonely (data):\n",
    "    li = []\n",
    "    li.append(data[0])\n",
    "    \n",
    "    for i in range(1,len(data)):\n",
    "        if data[i] != data[i-1]:\n",
    "            li.append(data[i])   \n",
    "    \n",
    "    return li\n"
   ]
  },
  {
   "cell_type": "code",
   "execution_count": 111,
   "id": "befa17a5",
   "metadata": {},
   "outputs": [
    {
     "data": {
      "text/plain": [
       "[1, 3, 0, 1]"
      ]
     },
     "execution_count": 111,
     "metadata": {},
     "output_type": "execute_result"
    }
   ],
   "source": [
    "lonely([1, 1, 3, 3, 0, 1, 1])"
   ]
  },
  {
   "cell_type": "code",
   "execution_count": 112,
   "id": "b38c9de7",
   "metadata": {},
   "outputs": [
    {
     "data": {
      "text/plain": [
       "[4, 3]"
      ]
     },
     "execution_count": 112,
     "metadata": {},
     "output_type": "execute_result"
    }
   ],
   "source": [
    "lonely([4, 4, 4, 3, 3]) "
   ]
  }
 ],
 "metadata": {
  "kernelspec": {
   "display_name": "Python 3 (ipykernel)",
   "language": "python",
   "name": "python3"
  },
  "language_info": {
   "codemirror_mode": {
    "name": "ipython",
    "version": 3
   },
   "file_extension": ".py",
   "mimetype": "text/x-python",
   "name": "python",
   "nbconvert_exporter": "python",
   "pygments_lexer": "ipython3",
   "version": "3.9.13"
  }
 },
 "nbformat": 4,
 "nbformat_minor": 5
}
