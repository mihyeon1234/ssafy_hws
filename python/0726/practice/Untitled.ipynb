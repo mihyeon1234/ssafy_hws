{
 "cells": [
  {
   "cell_type": "code",
   "execution_count": 14,
   "id": "3776c9d5",
   "metadata": {},
   "outputs": [
    {
     "name": "stdout",
     "output_type": "stream",
     "text": [
      "================================\n",
      "        Battle Ship Game        \n",
      "            START !!            \n",
      "================================\n"
     ]
    },
    {
     "ename": "KeyboardInterrupt",
     "evalue": "",
     "output_type": "error",
     "traceback": [
      "\u001b[1;31m---------------------------------------------------------------------------\u001b[0m",
      "\u001b[1;31mKeyboardInterrupt\u001b[0m                         Traceback (most recent call last)",
      "Input \u001b[1;32mIn [14]\u001b[0m, in \u001b[0;36m<cell line: 31>\u001b[1;34m()\u001b[0m\n\u001b[0;32m     29\u001b[0m \u001b[38;5;66;03m# 1. 게임 준비\u001b[39;00m\n\u001b[0;32m     30\u001b[0m \u001b[38;5;28;01mwhile\u001b[39;00m \u001b[38;5;28;01mTrue\u001b[39;00m:\n\u001b[1;32m---> 31\u001b[0m     \u001b[38;5;28;01mpass\u001b[39;00m\n\u001b[0;32m     32\u001b[0m     \u001b[38;5;66;03m# 1-1) 플레이어의 배 시작 위치 고르기\u001b[39;00m\n\u001b[0;32m     33\u001b[0m \n\u001b[0;32m     34\u001b[0m     \u001b[38;5;66;03m# 1-2) 범위를 벗어난 시작점을 고른 경우\u001b[39;00m\n\u001b[1;32m   (...)\u001b[0m\n\u001b[0;32m     40\u001b[0m \n\u001b[0;32m     41\u001b[0m \u001b[38;5;66;03m# 2. 라운드 진행\u001b[39;00m\n\u001b[0;32m     42\u001b[0m \u001b[38;5;28;01mwhile\u001b[39;00m \u001b[38;5;28;01mTrue\u001b[39;00m:\n",
      "\u001b[1;31mKeyboardInterrupt\u001b[0m: "
     ]
    }
   ],
   "source": [
    "import random  # 랜덤 모듈 활용\n",
    "\n",
    "print(\"================================\")\n",
    "print(\"        Battle Ship Game        \")\n",
    "print(\"            START !!            \")\n",
    "print(\"================================\")\n",
    "\n",
    "# 필요에 따라 추가적으로 함수를 만들어 자유롭게 활용할 수 있습니다.\n",
    "# 각자의 해역에 배를 위치시키는 함수\n",
    "def set_ship(index, sea):\n",
    "    idx = int(input('배를 위치시킬 시작점을 고르세요. : '))\n",
    "    if idx >=1 and idx<=13:\n",
    "        (player_sea[idx] and player_sea[idx+1] and player_sea[idx+2])==1\n",
    "        print('*'*30)\n",
    "        print(f'플레이어의 해역 : {player_sea}')\n",
    "        return player_sea\n",
    "    else:\n",
    "        print('-----해당 위치에는 배를 둘 수 없습니다.')\n",
    "\n",
    "\n",
    "player_sea = [0] * 15  # 플레이어의 해역\n",
    "player_attacked = [False] * 15  # 플레이어의 공격 위치 기록\n",
    "\n",
    "computer_sea = [0] * 15  # 컴퓨터의 해역\n",
    "computer_attacked = [False] * 15  # 컴퓨터의 공격 위치 기록\n",
    "\n",
    "round = 1  # 게임 라운드\n",
    "\n",
    "# 1. 게임 준비\n",
    "while True:\n",
    "    pass\n",
    "    # 1-1) 플레이어의 배 시작 위치 고르기\n",
    "\n",
    "    # 1-2) 범위를 벗어난 시작점을 고른 경우\n",
    "\n",
    "\n",
    "# 1-3) 컴퓨터의 배 시작 위치를 랜덤으로 지정합니다.\n",
    "\n",
    "# 1-4) 플레이어와 컴퓨터의 해역에 각각 배 위치시키기\n",
    "\n",
    "# 2. 라운드 진행\n",
    "while True:\n",
    "    pass\n",
    "    # 2-1) 플레이어 공격\n",
    "\n",
    "    # 2-2) 플레이어의 공격 위치 선택\n",
    "\n",
    "    # 2-3) 플레이어의 공격이 성공한 경우\n",
    "\n",
    "    # 2-4) 플레이어의 공격이 실패한 경우\n",
    "\n",
    "    # 2-5) 컴퓨터의 공격 위치 지정\n",
    "    # 컴퓨터가 공격하지 않은 위치를 나타내는 리스트\n",
    "\n",
    "    # 2-6) 컴퓨터의 공격이 성공한 경우\n",
    "\n",
    "    # 2-7) 컴퓨터의 공격이 실패한 경우\n"
   ]
  },
  {
   "cell_type": "code",
   "execution_count": 38,
   "id": "959e5e18",
   "metadata": {},
   "outputs": [
    {
     "name": "stdout",
     "output_type": "stream",
     "text": [
      "[0, 0, 1, 0, 0, 0, 0, 0, 0, 0, 0, 0, 0, 0, 0]\n"
     ]
    }
   ],
   "source": [
    "player_sea = [0] * 15 \n",
    "idx=3\n",
    "player_sea[idx-1] = 1\n",
    "print(player_sea)"
   ]
  },
  {
   "cell_type": "code",
   "execution_count": 27,
   "id": "0be30cdc",
   "metadata": {},
   "outputs": [],
   "source": [
    "def set_ship(index):\n",
    "    if idx >=1 and idx<=13:\n",
    "        player_sea[idx,idx+1,idx+2]==1\n",
    "        print('-'*50)\n",
    "        print(f'플레이어의 해역 : {player_sea}')\n",
    "        print(f'플레이어의 공격 기록 : {player_attacked}')\n",
    "        print('-'*50)\n",
    "        \n",
    "        return player_sea\n",
    "    else:\n",
    "        print('-----해당 위치에는 배를 둘 수 없습니다.-----')\n"
   ]
  },
  {
   "cell_type": "code",
   "execution_count": 31,
   "id": "e692d421",
   "metadata": {},
   "outputs": [
    {
     "name": "stdout",
     "output_type": "stream",
     "text": [
      "배를 위치시킬 시작점을 고르세요. : 10\n",
      "--------------------------------------------------\n",
      "플레이어의 해역 : [0, 0, 0, 0, 0, 0, 0, 0, 0, 0, 0, 0, 0, 0, 0]\n",
      "플레이어의 공격 기록 : [0, 0, 0, 0, 0, 0, 0, 0, 0, 0, 0, 0, 0, 0, 0]\n",
      "--------------------------------------------------\n"
     ]
    }
   ],
   "source": [
    "while True:\n",
    "    idx = int(input('배를 위치시킬 시작점을 고르세요. : '))\n",
    "\n",
    "    # 1-1) 플레이어의 배 시작 위치 고르기\n",
    "    if idx >=1 and idx<=13:\n",
    "        set_ship(idx)\n",
    "        break\n",
    "    # 1-2) 범위를 벗어난 시작점을 고른 경우\n",
    "    else:\n",
    "        print('-----해당 위치에는 배를 둘 수 없습니다.-----')"
   ]
  },
  {
   "cell_type": "code",
   "execution_count": 7,
   "id": "efb6487a",
   "metadata": {},
   "outputs": [
    {
     "name": "stdout",
     "output_type": "stream",
     "text": [
      "소금물의 농도(%)와 소금물의 양(g)을 입력하십시오 : 1% 400g\n",
      "소금물의 농도(%)와 소금물의 양(g)을 입력하십시오 : 1% 400g\n",
      "소금물의 농도(%)와 소금물의 양(g)을 입력하십시오 : 1% 400g\n",
      "소금물의 농도(%)와 소금물의 양(g)을 입력하십시오 : 1% 400g\n",
      "소금물의 농도(%)와 소금물의 양(g)을 입력하십시오 : Done\n",
      "sort :  [4.0, 4.0, 4.0, 4.0] reso :  16.0\n",
      "sort :  [4.0, 4.0, 4.0, 4.0] rewa :  1600\n",
      "1.0% 1600g\n"
     ]
    }
   ],
   "source": [
    "perc = []\n",
    "water = []\n",
    "sort = []\n",
    "j = 0\n",
    "while j != 5:\n",
    "    j+=1\n",
    "    i = input('소금물의 농도(%)와 소금물의 양(g)을 입력하십시오 : ')\n",
    "    if i != 'Done':\n",
    "        perc.append(int(i.split('%')[0]))\n",
    "        water.append(int(i.split(' ')[1].rstrip('g')))\n",
    "        sort.append(((int(i.split('%')[0]))*(int(i.split(' ')[1].rstrip('g'))))/100)\n",
    "\n",
    "                                    \n",
    "    elif i == 'Done':\n",
    "        reso = sum(sort)\n",
    "        print('sort : ',sort,'reso : ',reso)\n",
    "        rewa = sum(water)\n",
    "        print('sort : ',sort,'rewa : ',rewa)\n",
    "\n",
    "        re = (reso/rewa)*100\n",
    "        print(f'{re}% {rewa}g')\n",
    "\n"
   ]
  },
  {
   "cell_type": "code",
   "execution_count": 47,
   "id": "85e95008",
   "metadata": {},
   "outputs": [
    {
     "name": "stdout",
     "output_type": "stream",
     "text": [
      "--------------------------------------------------\n",
      "플레이어의 해역 : [0, 0, 1, 1, 1, 0, 0, 0, 0, 0, 0, 0, 0, 0, 0]\n",
      "플레이어의 공격 기록 : [False, False, False, False, False, False, False, False, False, False, False, False, False, False, False]\n",
      "--------------------------------------------------\n"
     ]
    }
   ],
   "source": [
    "player_sea = [0] * 15 \n",
    "ind = 3\n",
    "player_sea[ind-1]=1\n",
    "player_sea[ind]=1\n",
    "player_sea[ind+1]=1\n",
    "print('-'*50)\n",
    "print(f'플레이어의 해역 : {player_sea}')\n",
    "print(f'플레이어의 공격 기록 : {player_attacked}')\n",
    "print('-'*50)\n",
    "        "
   ]
  }
 ],
 "metadata": {
  "kernelspec": {
   "display_name": "Python 3 (ipykernel)",
   "language": "python",
   "name": "python3"
  },
  "language_info": {
   "codemirror_mode": {
    "name": "ipython",
    "version": 3
   },
   "file_extension": ".py",
   "mimetype": "text/x-python",
   "name": "python",
   "nbconvert_exporter": "python",
   "pygments_lexer": "ipython3",
   "version": "3.9.13"
  },
  "toc": {
   "base_numbering": 1,
   "nav_menu": {},
   "number_sections": true,
   "sideBar": true,
   "skip_h1_title": false,
   "title_cell": "Table of Contents",
   "title_sidebar": "Contents",
   "toc_cell": false,
   "toc_position": {},
   "toc_section_display": true,
   "toc_window_display": false
  }
 },
 "nbformat": 4,
 "nbformat_minor": 5
}
