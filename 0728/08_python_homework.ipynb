{
 "cells": [
  {
   "cell_type": "markdown",
   "id": "90631d8d",
   "metadata": {},
   "source": [
    "## Circle 인스턴스 만들기\n",
    "아래와 같은 Circle 클래스가 있을 때, 반지름이 3이고 x, y좌표가 (2, 4)인\n",
    "Circle 인스턴스를 만들어 넓이와 둘레를 출력하시오.\n",
    "\n",
    "```python\n",
    "class Circle:\n",
    "    pi = 3.14\n",
    "def __init__(self, r, x, y):\n",
    "    self.r = r\n",
    "    self.x = x\n",
    "    self.y = y\n",
    "def area(self):\n",
    "    return Circle.pi * self.r * self.r\n",
    "def circumference(self):\n",
    "    return 2 * Circle.pi * self.r\n",
    "def center(self):\n",
    "    return (self.x, self.y)\n",
    "```"
   ]
  },
  {
   "cell_type": "code",
   "execution_count": 10,
   "id": "c1444e70",
   "metadata": {},
   "outputs": [],
   "source": [
    "class Circle:\n",
    "    pi = 3.14\n",
    "    def __init__(self, r, x, y):\n",
    "        self.r = r\n",
    "        self.x = x\n",
    "        self.y = y\n",
    "    def area(self):\n",
    "        return Circle.pi * self.r * self.r\n",
    "    def circumference(self):\n",
    "        return 2 * Circle.pi * self.r\n",
    "    def center(self):\n",
    "        return (self.x, self.y)"
   ]
  },
  {
   "cell_type": "code",
   "execution_count": 15,
   "id": "14e22438",
   "metadata": {},
   "outputs": [
    {
     "data": {
      "text/plain": [
       "(2, 4)"
      ]
     },
     "execution_count": 15,
     "metadata": {},
     "output_type": "execute_result"
    }
   ],
   "source": [
    "a = Circle(3,2,4)\n",
    "\n",
    "a.area()\n",
    "a.circumference()\n",
    "a.center()"
   ]
  },
  {
   "cell_type": "markdown",
   "id": "afdc7e96",
   "metadata": {},
   "source": [
    "## Dog과 Bird는 Animal이다\n",
    "다음과 같이 Animal 클래스가 주어질 때, 해당 클래스를 상속 받아 아래의 보기와 같이\n",
    "동작하는 Dog 클래스와 Bird 클래스를 작성하시오.\n",
    "\n",
    "```python\n",
    "class Animal:\n",
    "def __init__(self, name):\n",
    "self.name = name\n",
    "def walk(self):\n",
    "print(f'{self.name}! 걷는다!’)\n",
    "def eat(self):\n",
    "print(f'{self.name}! 먹는다!')\n",
    "\n",
    "```\n",
    "\n",
    "```python\n",
    "og = Dog('꼽이')\n",
    "dog.run() # 꼽이! 달린다! \n",
    "dog.bark() # 꼽이! 짖는다!\n",
    "bird = Bird('구구')\n",
    "bird.walk() # 구구! 걷는다! \n",
    "bird.eat() # 구구! 먹는다! \n",
    "bird.fly() # 구구! 푸드덕! \n",
    "```"
   ]
  },
  {
   "cell_type": "code",
   "execution_count": 29,
   "id": "552dade7",
   "metadata": {},
   "outputs": [],
   "source": [
    "class Animal:\n",
    "    def __init__(self, name):\n",
    "        self.name = name\n",
    "    def walk(self):\n",
    "        print(f'{self.name}! 걷는다!')\n",
    "    def eat(self):\n",
    "        print(f'{self.name}! 먹는다!')\n",
    "    def run(self):\n",
    "        print(f'{self.name}! 달린다!')\n",
    "    def bark(self):\n",
    "        print(f'{self.name}! 짖는다!')\n",
    "    def fly(self):\n",
    "        print(f'{self.name}! 푸드덕!')"
   ]
  },
  {
   "cell_type": "code",
   "execution_count": 31,
   "id": "60f9ccff",
   "metadata": {},
   "outputs": [
    {
     "name": "stdout",
     "output_type": "stream",
     "text": [
      "꼽이! 달린다!\n",
      "꼽이! 짖는다!\n",
      "구구! 걷는다!\n",
      "구구! 먹는다!\n",
      "구구! 푸드덕!\n"
     ]
    }
   ],
   "source": [
    "dog= Animal('꼽이')\n",
    "dog.run() # 꼽이! 달린다! \n",
    "dog.bark() # 꼽이! 짖는다!\n",
    "\n",
    "bird = Animal('구구')\n",
    "bird.walk() # 구구! 걷는다! \n",
    "bird.eat() # 구구! 먹는다! \n",
    "bird.fly() # 구구! 푸드덕!"
   ]
  },
  {
   "cell_type": "markdown",
   "id": "a5b13f97",
   "metadata": {},
   "source": [
    "## Module Import\n",
    "```python\n",
    "def fibo_recursion(n):\n",
    "if n < 2:\n",
    "return n\n",
    "else:\n",
    "return fibo_recursion(n-1) + fibo_recursion(n-2)\n",
    "```\n",
    "위와 같은 코드가 같은 폴더 안의 fibo.py 파일에 작성되어 있을 때, 아래와 같은 형태로\n",
    "함수를 실행 할 수 있도록 하는 import 문을 빈칸 (a), (b), (c)를 채워 넣어 완성하시오.\n",
    "```python\n",
    "from __(a)__ import __(b)__ as __(c)__\n",
    "recursion(4)\n",
    "```"
   ]
  },
  {
   "cell_type": "markdown",
   "id": "4aedbdbc",
   "metadata": {},
   "source": [
    "(a) = fibo\n",
    "(b) = fibo_recursion\n",
    "(c) = recursion"
   ]
  },
  {
   "cell_type": "code",
   "execution_count": null,
   "id": "74ec1559",
   "metadata": {},
   "outputs": [],
   "source": []
  },
  {
   "cell_type": "code",
   "execution_count": null,
   "id": "95f4ff7a",
   "metadata": {},
   "outputs": [],
   "source": []
  },
  {
   "cell_type": "code",
   "execution_count": null,
   "id": "bcbc715a",
   "metadata": {},
   "outputs": [],
   "source": []
  },
  {
   "cell_type": "code",
   "execution_count": null,
   "id": "fb9b9572",
   "metadata": {},
   "outputs": [],
   "source": []
  }
 ],
 "metadata": {
  "kernelspec": {
   "display_name": "Python 3 (ipykernel)",
   "language": "python",
   "name": "python3"
  },
  "language_info": {
   "codemirror_mode": {
    "name": "ipython",
    "version": 3
   },
   "file_extension": ".py",
   "mimetype": "text/x-python",
   "name": "python",
   "nbconvert_exporter": "python",
   "pygments_lexer": "ipython3",
   "version": "3.9.13"
  }
 },
 "nbformat": 4,
 "nbformat_minor": 5
}
